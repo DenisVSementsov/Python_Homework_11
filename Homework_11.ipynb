{
 "cells": [
  {
   "cell_type": "code",
   "execution_count": 2,
   "id": "abce0db5",
   "metadata": {},
   "outputs": [],
   "source": [
    "import math\n",
    "import numpy\n",
    "import matplotlib.pyplot as pyplot"
   ]
  },
  {
   "cell_type": "code",
   "execution_count": 3,
   "id": "51d05ca4",
   "metadata": {},
   "outputs": [],
   "source": [
    "a, b, c, d, e = -12, -18, 5, 10, -30"
   ]
  },
  {
   "cell_type": "code",
   "execution_count": 73,
   "id": "eb7252e8",
   "metadata": {},
   "outputs": [],
   "source": [
    "def f(x:int) -> int:\n",
    "    cosX = math.cos(x)\n",
    "    sin_from_cos_x = math.sin(cosX)\n",
    "    result = a*sin_from_cos_x*x**4 + b*x**3 + c*x**2 + d*x + e\n",
    "    return result"
   ]
  },
  {
   "cell_type": "code",
   "execution_count": 74,
   "id": "d802cad2",
   "metadata": {},
   "outputs": [],
   "source": [
    "source_x_array = numpy.arange(-50, 50.01, 0.01)"
   ]
  },
  {
   "cell_type": "code",
   "execution_count": 76,
   "id": "8ad19dc3",
   "metadata": {},
   "outputs": [],
   "source": [
    "y_min = min([f(x) for x in source_x_array])"
   ]
  },
  {
   "cell_type": "code",
   "execution_count": 77,
   "id": "562ef45b",
   "metadata": {},
   "outputs": [],
   "source": [
    "def show_graph_part(x: list, y: list, line_style: str, line_color:str):\n",
    "    pyplot.rcParams['lines.linestyle'] = line_style\n",
    "    pyplot.plot(x, y, line_color)\n",
    "    x.clear()\n",
    "    y.clear()        \n",
    "    "
   ]
  },
  {
   "cell_type": "code",
   "execution_count": 80,
   "id": "c71ef4ce",
   "metadata": {},
   "outputs": [],
   "source": [
    "def show_func():\n",
    "    #initial state\n",
    "    y = f(source_x_array[0])\n",
    "    y1 = f(source_x_array[1])\n",
    "    \n",
    "    plot_x_array = [source_x_array[0], source_x_array[1]]\n",
    "    plot_y_array = [y, y1]\n",
    "    \n",
    "    line_style = '-' if y > 0 else '-.'\n",
    "    line_color = 'g' if y < y1 else 'r'\n",
    "    function_goes_up = True if y < y1 else False\n",
    "                    \n",
    "    show_part_of_graph = False\n",
    "    \n",
    "    for i in range(2, len(source_x_array) - 1):\n",
    "        x = source_x_array[i]\n",
    "        y = f(source_x_array[i])\n",
    "        \n",
    "        if (plot_y_array[-1] > y and function_goes_up == True):\n",
    "            #now function starts to go down\n",
    "            show_graph_part(plot_x_array, plot_y_array, line_style, line_color)\n",
    "            \n",
    "            line_color = 'r'\n",
    "            function_goes_up = False\n",
    "        elif (plot_y_array[-1] < y and function_goes_up == False):\n",
    "            #now function starts to go up\n",
    "            show_graph_part(plot_x_array, plot_y_array, line_style, line_color)\n",
    "            \n",
    "            line_color = 'g'\n",
    "            function_goes_up = True\n",
    "        elif (plot_y_array[-1] <= 0 and y >= 0):\n",
    "            #now function starts to go above zero\n",
    "            show_graph_part(plot_x_array, plot_y_array, line_style, line_color)\n",
    "            \n",
    "            line_style = '-'\n",
    "            \n",
    "        elif (plot_y_array[-1] >= 0 and y <= 0):\n",
    "            #now function starts to go below zero\n",
    "            show_graph_part(plot_x_array, plot_y_array, line_style, line_color)\n",
    "            \n",
    "            line_style = '-.'\n",
    "        \n",
    "        plot_x_array.append(x)\n",
    "        plot_y_array.append(y)\n",
    "         \n",
    "    if (len(plot_x_array) > 0):\n",
    "        show_graph_part(plot_x_array, plot_y_array, line_style, line_color)\n",
    "        \n",
    "    pyplot.grid()\n",
    "    pyplot.show()"
   ]
  },
  {
   "cell_type": "code",
   "execution_count": 81,
   "id": "e729920f",
   "metadata": {},
   "outputs": [
    {
     "data": {
      "image/png": "[encoded data removed]",
      "text/plain": [
       "<Figure size 432x288 with 1 Axes>"
      ]
     },
     "metadata": {
      "needs_background": "light"
     },
     "output_type": "display_data"
    }
   ],
   "source": [
    "show_func()"
   ]
  },
  {
   "cell_type": "code",
   "execution_count": null,
   "id": "c5d6b04d",
   "metadata": {},
   "outputs": [],
   "source": []
  }
 ],
 "metadata": {
  "kernelspec": {
   "display_name": "Python 3 (ipykernel)",
   "language": "python",
   "name": "python3"
  },
  "language_info": {
   "codemirror_mode": {
    "name": "ipython",
    "version": 3
   },
   "file_extension": ".py",
   "mimetype": "text/x-python",
   "name": "python",
   "nbconvert_exporter": "python",
   "pygments_lexer": "ipython3",
   "version": "3.9.12"
  }
 },
 "nbformat": 4,
 "nbformat_minor": 5
}
